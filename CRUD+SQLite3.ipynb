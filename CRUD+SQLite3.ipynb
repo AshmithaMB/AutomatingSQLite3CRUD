{
  "nbformat": 4,
  "nbformat_minor": 0,
  "metadata": {
    "colab": {
      "provenance": [],
      "authorship_tag": "ABX9TyOkGctoknAZPnTjBWpfnaC8",
      "include_colab_link": true
    },
    "kernelspec": {
      "name": "python3",
      "display_name": "Python 3"
    },
    "language_info": {
      "name": "python"
    }
  },
  "cells": [
    {
      "cell_type": "markdown",
      "metadata": {
        "id": "view-in-github",
        "colab_type": "text"
      },
      "source": [
        "<a href=\"https://colab.research.google.com/github/AshmithaMB/AutomatingSQLite3CRUD/blob/main/CRUD%2BSQLite3.ipynb\" target=\"_parent\"><img src=\"https://colab.research.google.com/assets/colab-badge.svg\" alt=\"Open In Colab\"/></a>"
      ]
    },
    {
      "cell_type": "markdown",
      "source": [
        "## Integrating SQLite Database with Python and Performing CRUD Operations"
      ],
      "metadata": {
        "id": "TVs1rvvH-wH4"
      }
    },
    {
      "cell_type": "markdown",
      "source": [
        "#### Introduction\n",
        "##### What Is SQLite?\n",
        "\n",
        "* SQLite is a C-language library that implements a small, fast, self-contained, high-reliability, full-featured, SQL database engine. \n",
        "\n",
        "* A standalone command-line shell program called sqlite3 is provided in SQLite's distribution. \n",
        "\n",
        "* It can be used to create a database, define tables, insert and change rows, run queries and manage an SQLite database file.\n",
        "\n",
        "* SQLite3 is a standardized Python DBI API 2.0 and provides a straightforward and simple-to-use interface for interacting with SQLite databases."
      ],
      "metadata": {
        "id": "eF40VS6p4zFS"
      }
    },
    {
      "cell_type": "markdown",
      "source": [
        "1. Importing the sqlite3 module in python"
      ],
      "metadata": {
        "id": "iqIq1ouYAkST"
      }
    },
    {
      "cell_type": "code",
      "execution_count": 116,
      "metadata": {
        "id": "gnHyHtXD4Ikr"
      },
      "outputs": [],
      "source": [
        "import sqlite3"
      ]
    },
    {
      "cell_type": "markdown",
      "source": [
        "2. Connection/ Creation\n",
        "\n",
        "* Creating a new database 'students.db' and opening a database connection to allow sqlite3 to work with it (as it does not exist, it will create a database with the name 'students.db')\n",
        "* Calling sqlite3.connect() to create a connection to the database 'students.db' in the current working directory.\n"
      ],
      "metadata": {
        "id": "CMyCRrggAqCz"
      }
    },
    {
      "cell_type": "code",
      "source": [
        "conn = sqlite3.connect('students.db')"
      ],
      "metadata": {
        "id": "Z79YaRfm4Ov0"
      },
      "execution_count": 117,
      "outputs": []
    },
    {
      "cell_type": "markdown",
      "source": [
        "* returned Connection object 'conn' represents the connection to the on-disk database"
      ],
      "metadata": {
        "id": "Onb5BNSVE9eF"
      }
    },
    {
      "cell_type": "markdown",
      "source": [
        "##### Storage\n",
        "* An SQLite database is normally stored in a single ordinary disk file. However, in certain circumstances, the database might be stored in memory.\n",
        "\n",
        "* The most common way to force an SQLite database to exist purely in memory is to open the database using the special filename \":memory:\"\n",
        "\n",
        "* When this is done, no disk file is opened. Instead, a new database is created purely in memory. \n",
        "* The database ceases to exist as soon as the database connection is closed."
      ],
      "metadata": {
        "id": "oredGJIgeaLk"
      }
    },
    {
      "cell_type": "markdown",
      "source": [
        "To avoid the error ('*table alreay exists*') while practicing queries in the working directory, It is best to use \n",
        "**conn = sqlite3.connect(':memory:')**"
      ],
      "metadata": {
        "id": "4YTWoHlIdWZC"
      }
    },
    {
      "cell_type": "markdown",
      "source": [
        "3. Cursor\n",
        "\n",
        "* In order to execute SQL statements and fetch results from SQL queries, calling conn.cursor() which inturn creats a cursor for the database 'students.db'"
      ],
      "metadata": {
        "id": "EXR3wetNFJib"
      }
    },
    {
      "cell_type": "code",
      "source": [
        "c = conn.cursor()"
      ],
      "metadata": {
        "id": "2AJsf6ts4ckg"
      },
      "execution_count": 118,
      "outputs": []
    },
    {
      "cell_type": "markdown",
      "source": [
        "## CRUD Operations"
      ],
      "metadata": {
        "id": "swfTO8N8F2-v"
      }
    },
    {
      "cell_type": "markdown",
      "source": [
        "#### CREATE\n",
        "* Creating a database table  **'students'**  with columns for :-\n",
        "* **first**  ( first name of the student ) , \n",
        "* **last**    ( last name of the student ) , \n",
        "* **age**    ( age of the student ) and\n",
        "* **college**  ( The college they've graduated from )"
      ],
      "metadata": {
        "id": "qmoO1X0D4v8S"
      }
    },
    {
      "cell_type": "markdown",
      "source": [
        "\n",
        "* Although, I could just use column names in the table declaration without specifying the data type ( as it is optional in SQLite3 ),  I have listed the data types just beside the column name.\n",
        "\n",
        "* Executing the CREATE TABLE statement by calling c.execute('...')"
      ],
      "metadata": {
        "id": "sQblzSwkIr1Z"
      }
    },
    {
      "cell_type": "markdown",
      "source": [
        "##### SQLite3 has only 5 data types;\n",
        "- **NULL**      -  NULL value\n",
        "- **INTEGER**   -  Whole number value\n",
        "- **REAL**      -  Floating point value\n",
        "- **TEXT**      -  Text string value\n",
        "- **BLOB**      -  The value is a blob of data, stored exactly as it was input."
      ],
      "metadata": {
        "id": "bDejMcDbLsXs"
      }
    },
    {
      "cell_type": "code",
      "source": [
        "c.execute('''CREATE TABLE students (\n",
        "  first text,\n",
        "  last text,\n",
        "  age integer,\n",
        "  college text\n",
        "  )''')"
      ],
      "metadata": {
        "colab": {
          "base_uri": "https://localhost:8080/"
        },
        "id": "fG0-zyd74f-y",
        "outputId": "97ee687d-387d-4963-ec14-bdb35ee4cd99"
      },
      "execution_count": 119,
      "outputs": [
        {
          "output_type": "execute_result",
          "data": {
            "text/plain": [
              "<sqlite3.Cursor at 0x7f6efe7e73b0>"
            ]
          },
          "metadata": {},
          "execution_count": 119
        }
      ]
    },
    {
      "cell_type": "markdown",
      "source": [
        "##### Insertion\n",
        "* Inserting data into the table and using c.excute() to execute "
      ],
      "metadata": {
        "id": "XFoZdqDlIqx-"
      }
    },
    {
      "cell_type": "code",
      "source": [
        "c.execute('''INSERT INTO students VALUES \n",
        "('Ashmitha','Maduri',20,'Sai Sudhir'),\n",
        "('Rahul','Jamdhade',21,'Plymouth'),\n",
        "('Akshaya','Gollayala',22,'Sacred Heart'),\n",
        "('Chirag','Sareen',22,'Amity')''')"
      ],
      "metadata": {
        "colab": {
          "base_uri": "https://localhost:8080/"
        },
        "id": "Wn-mYO4T5OQu",
        "outputId": "06e1f1b7-73bb-4dbc-ed66-2003865b37e3"
      },
      "execution_count": 120,
      "outputs": [
        {
          "output_type": "execute_result",
          "data": {
            "text/plain": [
              "<sqlite3.Cursor at 0x7f6efe7e73b0>"
            ]
          },
          "metadata": {},
          "execution_count": 120
        }
      ]
    },
    {
      "cell_type": "markdown",
      "source": [
        "* Using conn.commit() method to commit/save the changes (insertions) to the database 'students.db'"
      ],
      "metadata": {
        "id": "5H5FH4aZMCPF"
      }
    },
    {
      "cell_type": "code",
      "source": [
        "conn.commit()"
      ],
      "metadata": {
        "id": "HtP_D9E76pvx"
      },
      "execution_count": 121,
      "outputs": []
    },
    {
      "cell_type": "code",
      "source": [
        "c.execute('''INSERT INTO students VALUES \n",
        "('Mrinalini','Maduri',30,'Sai Sudhir'),\n",
        "('Nikita','Jamdhade',23,'Sai Sudhir'),\n",
        "('Krithin','Gollayala',21,'Howard'),\n",
        "('Keerthi','Sareen',25,'Amity'),\n",
        "('Ashutosh','Maduri',25,'Federation University'),\n",
        "('Priyanka','Mohan',26,'Sai Sudhir'),\n",
        "('Neha','Sai',21,'Howard'),\n",
        "('Kiran','Sareen',25,'Howard'),\n",
        "('Mouni','Thakur',20,'Sai Sudhir'),\n",
        "('Harshadeep','Sandhu',27,'Narayana'),\n",
        "('Aman','Kaur',28,'Howard'),\n",
        "('Jaspreet','Kaur',25,'Narayana'),\n",
        "('Avneet','Kaur',25,'Chaitanya'),\n",
        "('Neeti','Mohan',20,'Chaitanya'),\n",
        "('Jai','Sai',21,'Narayana'),\n",
        "('Veena','Thakur',20,'Narayana')''')\n",
        "\n",
        "conn.commit()"
      ],
      "metadata": {
        "id": "3-hATskUMo9l"
      },
      "execution_count": 122,
      "outputs": []
    },
    {
      "cell_type": "markdown",
      "source": [
        "#### READ\n",
        "* The following SQL statement selects \"last\" column where last = 'Maduri'   from the \"students\" table.\n",
        "\n",
        "* From the \"students\" table, the names of the students whose last name is 'Maduri' are showed/retrieved here."
      ],
      "metadata": {
        "id": "KOCwMZtUMqcs"
      }
    },
    {
      "cell_type": "code",
      "source": [
        "c.execute('SELECT * FROM students WHERE last = \"Maduri\" ')"
      ],
      "metadata": {
        "colab": {
          "base_uri": "https://localhost:8080/"
        },
        "id": "aDqPuTDg62aX",
        "outputId": "3934c231-9043-4594-b167-76122626ad9b"
      },
      "execution_count": 123,
      "outputs": [
        {
          "output_type": "execute_result",
          "data": {
            "text/plain": [
              "<sqlite3.Cursor at 0x7f6efe7e73b0>"
            ]
          },
          "metadata": {},
          "execution_count": 123
        }
      ]
    },
    {
      "cell_type": "markdown",
      "source": [
        "* fetchall() method fetches all (or all remaining) rows of the above query result set and returns a list of tuples.\n",
        "* If no more rows are available, it returns an empty list."
      ],
      "metadata": {
        "id": "eeZEcY88Q0om"
      }
    },
    {
      "cell_type": "code",
      "source": [
        "print(c.fetchall())"
      ],
      "metadata": {
        "colab": {
          "base_uri": "https://localhost:8080/"
        },
        "id": "ffKMyRIA70BM",
        "outputId": "4d4b32fc-67da-4c70-8448-986199bcaaec"
      },
      "execution_count": 124,
      "outputs": [
        {
          "output_type": "stream",
          "name": "stdout",
          "text": [
            "[('Ashmitha', 'Maduri', 20, 'Sai Sudhir'), ('Mrinalini', 'Maduri', 30, 'Sai Sudhir'), ('Ashutosh', 'Maduri', 25, 'Federation University')]\n"
          ]
        }
      ]
    },
    {
      "cell_type": "markdown",
      "source": [
        "* When the **print(c.fetchall())** was executed first, it retrieved/showed 3 records of students having their last name as 'Maduri'\n",
        "* Output :   ' Ashmitha Maduri ' , ' Ashutosh Maduri ' , ' Mrinalini Maduri '\n",
        "* When executed for the second time, (print(c.fetchall())) it returned an empty list"
      ],
      "metadata": {
        "id": "E1nnpbB5RbZ1"
      }
    },
    {
      "cell_type": "markdown",
      "source": [
        "#### UPDATE"
      ],
      "metadata": {
        "id": "Yk7-91aC5jl3"
      }
    },
    {
      "cell_type": "code",
      "source": [
        "c.execute(\n",
        "          \"\"\" UPDATE students SET age = 22 \n",
        "              WHERE first = 'Ashmitha' AND last = 'Maduri'    \"\"\")\n",
        "\n",
        "conn.commit()\n",
        "\n",
        "c.execute('SELECT * FROM students WHERE last = \"Maduri\" ')\n",
        "\n",
        "print(c.fetchall())"
      ],
      "metadata": {
        "colab": {
          "base_uri": "https://localhost:8080/"
        },
        "id": "x1COA-iQ5jP3",
        "outputId": "f50897a3-a939-42a6-d33a-cade70d29e3e"
      },
      "execution_count": 125,
      "outputs": [
        {
          "output_type": "stream",
          "name": "stdout",
          "text": [
            "[('Ashmitha', 'Maduri', 22, 'Sai Sudhir'), ('Mrinalini', 'Maduri', 30, 'Sai Sudhir'), ('Ashutosh', 'Maduri', 25, 'Federation University')]\n"
          ]
        }
      ]
    },
    {
      "cell_type": "code",
      "source": [
        "c.execute(\n",
        "          \"\"\" UPDATE students SET last = 'Harshit'\n",
        "              WHERE first = 'Aman' AND age = 28    \"\"\")\n",
        "\n",
        "conn.commit()\n",
        "\n",
        "c.execute('SELECT * FROM students WHERE first = \"Aman\" ')\n",
        "\n",
        "print(c.fetchall())"
      ],
      "metadata": {
        "colab": {
          "base_uri": "https://localhost:8080/"
        },
        "id": "JOkDjRbz6d8a",
        "outputId": "ce0a0de8-ad5d-4ff6-eecb-7634888255ed"
      },
      "execution_count": 126,
      "outputs": [
        {
          "output_type": "stream",
          "name": "stdout",
          "text": [
            "[('Aman', 'Harshit', 28, 'Howard')]\n"
          ]
        }
      ]
    },
    {
      "cell_type": "markdown",
      "source": [
        "#### DELETE"
      ],
      "metadata": {
        "id": "YUznIKFD5nA9"
      }
    },
    {
      "cell_type": "code",
      "source": [
        "c.execute(\"DELETE FROM students WHERE first = 'Priyanka' AND last = 'Mohan'\")\n",
        "\n",
        "conn.commit()\n",
        "\n",
        "c.execute('SELECT * FROM students WHERE first = \"Priyanka\" ')\n",
        "\n",
        "print(c.fetchall())\n"
      ],
      "metadata": {
        "colab": {
          "base_uri": "https://localhost:8080/"
        },
        "id": "z2FO9QGf5p0o",
        "outputId": "2eb3444a-e7fb-4c59-892f-3447b1d5a435"
      },
      "execution_count": 127,
      "outputs": [
        {
          "output_type": "stream",
          "name": "stdout",
          "text": [
            "[]\n"
          ]
        }
      ]
    },
    {
      "cell_type": "code",
      "source": [
        "c.execute(\"DELETE FROM students WHERE college = 'Howard' AND first = 'Neha'\")\n",
        "\n",
        "conn.commit()\n",
        "\n",
        "c.execute('SELECT * FROM students WHERE first = \"Neha\" ')\n",
        "\n",
        "print(c.fetchall())"
      ],
      "metadata": {
        "colab": {
          "base_uri": "https://localhost:8080/"
        },
        "id": "F5yQGmvH7Wo3",
        "outputId": "6ac5e18d-a4c2-454e-d607-8057155883d8"
      },
      "execution_count": 128,
      "outputs": [
        {
          "output_type": "stream",
          "name": "stdout",
          "text": [
            "[]\n"
          ]
        }
      ]
    },
    {
      "cell_type": "markdown",
      "source": [
        "#### AUTOMATING CRUD"
      ],
      "metadata": {
        "id": "CcFvzDyi5qbF"
      }
    },
    {
      "cell_type": "markdown",
      "source": [
        "##### Creating a Student Class to later insert data into the table quickly and retrieve data according to the attributes\n"
      ],
      "metadata": {
        "id": "0FF1IwPvSxhO"
      }
    },
    {
      "cell_type": "code",
      "source": [
        "class Student():\n",
        "  ''' A Sample Student Class'''\n",
        "  def __init__(self, first, last, age, college):\n",
        "    self.first = first\n",
        "    self.last = last\n",
        "    self.age = age\n",
        "    self.college = college"
      ],
      "metadata": {
        "id": "x6UnIgdg8mdH"
      },
      "execution_count": 129,
      "outputs": []
    },
    {
      "cell_type": "markdown",
      "source": [
        "Inserting data through creating instances for the Student class"
      ],
      "metadata": {
        "id": "9UsEt-mCUu-I"
      }
    },
    {
      "cell_type": "code",
      "source": [
        "student_1 = Student('Harshavardhan','Thakur',28,'Amity')\n",
        "student_2 = Student('Ashwini','Singh',24,'Kasturba')\n",
        "student_3 = Student('Rohini','Singh',32,'Kasturba')"
      ],
      "metadata": {
        "id": "jkL0wm2ET0ZM"
      },
      "execution_count": 130,
      "outputs": []
    },
    {
      "cell_type": "code",
      "source": [
        "print(student_1)"
      ],
      "metadata": {
        "colab": {
          "base_uri": "https://localhost:8080/"
        },
        "id": "uItskoVhUt94",
        "outputId": "cf3ba72d-e4ff-4ada-a06f-38aff7aedefe"
      },
      "execution_count": 131,
      "outputs": [
        {
          "output_type": "stream",
          "name": "stdout",
          "text": [
            "<__main__.Student object at 0x7f6efe8260d0>\n"
          ]
        }
      ]
    },
    {
      "cell_type": "markdown",
      "source": [
        "These three students are mere Python objects, which are not inserted into the database yet.\n",
        "* To insert these into the database, I am using 2 methods\n"
      ],
      "metadata": {
        "id": "eWXyvYjXV0Er"
      }
    },
    {
      "cell_type": "markdown",
      "source": [
        "**DB-API** \n",
        "* Python standard library does not come with an RDBMS interface, but there are many free third-party modules that lets Python programs access specific databases. \n",
        "* Such modules follow the Python Database API 2.0 standard which consists of standards to be followed by modules that have functionality for database connectivity with Python programs"
      ],
      "metadata": {
        "id": "_aHfyZAVhR2s"
      }
    },
    {
      "cell_type": "markdown",
      "source": [
        "* Question mark (?) is a DB API placeholder, it provides an SQL interface compliant with the DB-API 2.0 specification described \n",
        "* Best practice is to use placeholders instead of string formatting to bind Python with SQLite3"
      ],
      "metadata": {
        "id": "LyvzYd_Xgh8E"
      }
    },
    {
      "cell_type": "code",
      "source": [
        "c.execute(\"INSERT INTO students VALUES (?, ?, ?, ?)\", (student_1.first, student_1.last, student_1.age, student_1.college))\n",
        "conn.commit()"
      ],
      "metadata": {
        "id": "pT0ZNEaBVmC7"
      },
      "execution_count": 132,
      "outputs": []
    },
    {
      "cell_type": "code",
      "source": [
        "c.execute(\"INSERT INTO students VALUES (?, ?, ?, ?)\", (student_2.first, student_2.last, student_2.age, student_2.college))\n",
        "conn.commit()"
      ],
      "metadata": {
        "id": "nGfsGS7zZxkj"
      },
      "execution_count": 133,
      "outputs": []
    },
    {
      "cell_type": "code",
      "source": [
        "c.execute(\"INSERT INTO students VALUES (?, ?, ?, ?)\", (student_3.first, student_3.last, student_3.age, student_3.college))\n",
        "conn.commit()"
      ],
      "metadata": {
        "id": "6Kkf4_LLZvcb"
      },
      "execution_count": 134,
      "outputs": []
    },
    {
      "cell_type": "markdown",
      "source": [
        "##### Retrieve/SELECT \n",
        "* To search for a specific value whose place holder is a question mark(?) (which is a DB API placeholder), the argument should be witten in a tuple or else it throws an Error\n",
        "* Hence why the comma after \"Singh\"  and  \"Thakur\" which are passed in a tuple"
      ],
      "metadata": {
        "id": "HoMHTMOlaWS-"
      }
    },
    {
      "cell_type": "code",
      "source": [
        "c.execute('   SELECT * FROM students WHERE last =?', (\"Thakur\",)        )\n",
        "print(c.fetchall())"
      ],
      "metadata": {
        "colab": {
          "base_uri": "https://localhost:8080/"
        },
        "id": "Pm6BRAwGbx-_",
        "outputId": "8e307845-5dc8-42dd-fdc8-ce39fcf4a4b7"
      },
      "execution_count": 135,
      "outputs": [
        {
          "output_type": "stream",
          "name": "stdout",
          "text": [
            "[('Mouni', 'Thakur', 20, 'Sai Sudhir'), ('Veena', 'Thakur', 20, 'Narayana'), ('Harshavardhan', 'Thakur', 28, 'Amity')]\n"
          ]
        }
      ]
    },
    {
      "cell_type": "markdown",
      "source": [
        "#### Automating this with Python by adding on functions into the Student class created above to perform **CRUD operations**."
      ],
      "metadata": {
        "id": "bfgblTCUsfwd"
      }
    },
    {
      "cell_type": "code",
      "source": [
        "from typing_extensions import Self\n",
        "class stu():\n",
        "\n",
        "  ''' A Sample Student Class'''\n",
        "\n",
        "# 'with conn:' - saves the changes to the table immediately\n",
        "\n",
        "\n",
        "\n",
        "  def __init__(self, first, last, age, college):\n",
        "    self.first = first\n",
        "    self.last = last\n",
        "    self.age = age\n",
        "    self.college = college\n",
        "    \n",
        "\n",
        "\n",
        "\n",
        "  def insert(first, last, age, college):\n",
        "    with conn:\n",
        "      c.execute(\"INSERT INTO students VALUES (?, ?, ?, ?)\", (first, last, age, college))\n",
        "\n",
        "\n",
        "\n",
        "\n",
        "  def lastname(lastname):\n",
        "    c.execute('SELECT * FROM students WHERE last =?', (lastname,))\n",
        "    return c.fetchall()\n",
        "\n",
        "\n",
        "\n",
        "  def update_age(age, f, l):\n",
        "    with conn:\n",
        "      c.execute(\n",
        "          \"\"\" UPDATE students SET age = ? \n",
        "              WHERE first = ? AND last = ?   \"\"\",\n",
        "          (age, f, l))\n",
        "      \n",
        "\n",
        "\n",
        "  def select(firstname, lastname):\n",
        "    with conn:\n",
        "      c.execute('SELECT * FROM students WHERE first = ? AND last =?', (firstname, lastname))\n",
        "      return c.fetchall()\n",
        "\n",
        "\n",
        "\n",
        "  def delete(first, last):\n",
        "    with conn:\n",
        "      c.execute(\"DELETE FROM students WHERE first = ? AND last = ?\", (first, last))"
      ],
      "metadata": {
        "id": "r68pGjRO4UbY"
      },
      "execution_count": 136,
      "outputs": []
    },
    {
      "cell_type": "code",
      "source": [
        "stu.insert('Nikitha','Kulkarni',29,'Andrews')"
      ],
      "metadata": {
        "id": "rpfye0bRJD_l"
      },
      "execution_count": 137,
      "outputs": []
    },
    {
      "cell_type": "code",
      "source": [
        "stu.select('Nikitha','Kulkarni')"
      ],
      "metadata": {
        "colab": {
          "base_uri": "https://localhost:8080/"
        },
        "id": "T_ZwaO5HMN_T",
        "outputId": "defe498f-a6d3-4399-ee95-341c55dd7b47"
      },
      "execution_count": 138,
      "outputs": [
        {
          "output_type": "execute_result",
          "data": {
            "text/plain": [
              "[('Nikitha', 'Kulkarni', 29, 'Andrews')]"
            ]
          },
          "metadata": {},
          "execution_count": 138
        }
      ]
    },
    {
      "cell_type": "code",
      "source": [
        "stu.update_age(100,'Ashmitha', 'Maduri')\n"
      ],
      "metadata": {
        "id": "jGJVqUEmKMAt"
      },
      "execution_count": 139,
      "outputs": []
    },
    {
      "cell_type": "code",
      "source": [
        "stu.select('Ashmitha', 'Maduri')"
      ],
      "metadata": {
        "colab": {
          "base_uri": "https://localhost:8080/"
        },
        "id": "ED97n7z7LWNE",
        "outputId": "78a930bc-578a-40a6-a08b-df9a704b1359"
      },
      "execution_count": 140,
      "outputs": [
        {
          "output_type": "execute_result",
          "data": {
            "text/plain": [
              "[('Ashmitha', 'Maduri', 100, 'Sai Sudhir')]"
            ]
          },
          "metadata": {},
          "execution_count": 140
        }
      ]
    },
    {
      "cell_type": "code",
      "source": [
        "stu.delete('Nikitha', 'Kulkarni')"
      ],
      "metadata": {
        "id": "dqIFZjBcJUon"
      },
      "execution_count": 141,
      "outputs": []
    },
    {
      "cell_type": "code",
      "source": [
        "stu.select('Nikitha','Kulkarni')"
      ],
      "metadata": {
        "colab": {
          "base_uri": "https://localhost:8080/"
        },
        "id": "f7QprQgtM495",
        "outputId": "be9e5da6-c7e5-4310-a165-8ad79a62c54a"
      },
      "execution_count": 142,
      "outputs": [
        {
          "output_type": "execute_result",
          "data": {
            "text/plain": [
              "[]"
            ]
          },
          "metadata": {},
          "execution_count": 142
        }
      ]
    },
    {
      "cell_type": "code",
      "source": [
        "stu.insert('Akshay','Iyer',300, 'Lambton')"
      ],
      "metadata": {
        "id": "DCMCFX7bGQ6r"
      },
      "execution_count": 143,
      "outputs": []
    },
    {
      "cell_type": "code",
      "source": [
        "stu.select('Akshay','Iyer')"
      ],
      "metadata": {
        "colab": {
          "base_uri": "https://localhost:8080/"
        },
        "id": "8W43P59INlOc",
        "outputId": "d215e5ef-3c4d-4ddf-884c-454e4d67d917"
      },
      "execution_count": 144,
      "outputs": [
        {
          "output_type": "execute_result",
          "data": {
            "text/plain": [
              "[('Akshay', 'Iyer', 300, 'Lambton')]"
            ]
          },
          "metadata": {},
          "execution_count": 144
        }
      ]
    },
    {
      "cell_type": "code",
      "source": [
        "stu.update_age(25,'Akshay','Iyer')"
      ],
      "metadata": {
        "id": "1N1Tzb6VNq-t"
      },
      "execution_count": 145,
      "outputs": []
    },
    {
      "cell_type": "code",
      "source": [
        "stu.select('Akshay','Iyer')"
      ],
      "metadata": {
        "colab": {
          "base_uri": "https://localhost:8080/"
        },
        "id": "aB27LMaUN1NF",
        "outputId": "fe3fbe60-402f-45b1-83b6-03136fd3c73b"
      },
      "execution_count": 146,
      "outputs": [
        {
          "output_type": "execute_result",
          "data": {
            "text/plain": [
              "[('Akshay', 'Iyer', 25, 'Lambton')]"
            ]
          },
          "metadata": {},
          "execution_count": 146
        }
      ]
    },
    {
      "cell_type": "code",
      "source": [
        "stu.delete('Akshay','Iyer')"
      ],
      "metadata": {
        "id": "3Ha7y-RKOHlV"
      },
      "execution_count": 147,
      "outputs": []
    },
    {
      "cell_type": "code",
      "source": [
        "stu.select('Akshay','Iyer')"
      ],
      "metadata": {
        "colab": {
          "base_uri": "https://localhost:8080/"
        },
        "id": "G-Wtuto9OMMV",
        "outputId": "6365ca83-8962-4456-f53d-773da3f9a3a5"
      },
      "execution_count": 148,
      "outputs": [
        {
          "output_type": "execute_result",
          "data": {
            "text/plain": [
              "[]"
            ]
          },
          "metadata": {},
          "execution_count": 148
        }
      ]
    }
  ]
}